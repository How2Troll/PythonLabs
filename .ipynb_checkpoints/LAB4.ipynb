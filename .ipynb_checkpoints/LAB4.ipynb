{
 "cells": [
  {
   "cell_type": "code",
   "execution_count": null,
   "metadata": {},
   "outputs": [],
   "source": [
    "import timeit\n",
    "from functools import lru_cache\n",
    "\n",
    "# Definicja funkcji obliczającej ciąg Fibonacciego bez wykorzystania pamięci podręcznej\n",
    "def fibonacci(n):\n",
    "    # Warunek bazowy: dla n <= 1, zwróć n\n",
    "    if n <= 1:\n",
    "        return n\n",
    "    else:\n",
    "        # Rekurencyjne wywołanie funkcji dla dwóch poprzednich wartości\n",
    "        return fibonacci(n-1) + fibonacci(n-2)\n",
    "\n",
    "# Definicja funkcji obliczającej ciąg Fibonacciego z wykorzystaniem pamięci podręcznej (cache)\n",
    "@lru_cache(maxsize=128)  # Użycie dekoratora LRU (Least Recently Used) cache\n",
    "def fibonacci2(n):\n",
    "    # Warunek bazowy pozostaje taki sam jak w poprzedniej funkcji\n",
    "    if n <= 1:\n",
    "        return n\n",
    "    else:\n",
    "        # Rekurencyjne wywołanie funkcji z wykorzystaniem pamięci podręcznej\n",
    "        return fibonacci2(n-1) + fibonacci2(n-2)\n",
    "\n",
    "# Pomiar czasu wykonywania obu funkcji\n",
    "# Mierzenie czasu dla funkcji fibonacci bez wykorzystania pamięci podręcznej\n",
    "print(timeit.timeit(\"fibonacci(10)\", setup=\"from __main__ import fibonacci\", number=10**6))\n",
    "\n",
    "# Mierzenie czasu dla funkcji fibonacci2 z wykorzystaniem pamięci podręcznej\n",
    "print(timeit.timeit(\"fibonacci2(10)\", setup=\"from __main__ import fibonacci2\", number=10**6))\n"
   ]
  }
 ],
 "metadata": {
  "language_info": {
   "name": "python"
  }
 },
 "nbformat": 4,
 "nbformat_minor": 5
}
