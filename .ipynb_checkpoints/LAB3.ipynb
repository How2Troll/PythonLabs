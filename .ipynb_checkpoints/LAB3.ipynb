{
 "cells": [
  {
   "cell_type": "code",
   "execution_count": 11,
   "metadata": {},
   "outputs": [],
   "source": [
    "#https://huggingface.co/datasets/imodels/credit-card"
   ]
  },
  {
   "cell_type": "code",
   "execution_count": 12,
   "metadata": {},
   "outputs": [],
   "source": [
    "from datasets import load_dataset\n",
    "import pandas as pd"
   ]
  },
  {
   "cell_type": "code",
   "execution_count": 13,
   "metadata": {},
   "outputs": [],
   "source": [
    "\n",
    "\n",
    "\n",
    "dataset = load_dataset(\"imodels/credit-card\")\n",
    "df = pd.DataFrame(dataset['train'])\n",
    "X = df.drop(columns=['default.payment.next.month'])\n",
    "y = df['default.payment.next.month'].values"
   ]
  },
  {
   "cell_type": "code",
   "execution_count": 15,
   "metadata": {},
   "outputs": [
    {
     "name": "stdout",
     "output_type": "stream",
     "text": [
      "Original DataFrame:\n",
      "       limit_bal   age  pay_0  pay_2  pay_3  pay_4  pay_5  pay_6  bill_amt1  \\\n",
      "0        80000.0  24.0    0.0    0.0    0.0    0.0    0.0    0.0    75125.0   \n",
      "1        30000.0  28.0    0.0    0.0    0.0    0.0    0.0    0.0    29242.0   \n",
      "2       180000.0  44.0    0.0    0.0   -1.0   -1.0   -1.0   -1.0    20916.0   \n",
      "3        60000.0  25.0    0.0    0.0    0.0    0.0    0.0    0.0    58839.0   \n",
      "4       130000.0  25.0    0.0    0.0    0.0    0.0    0.0    0.0   111587.0   \n",
      "...          ...   ...    ...    ...    ...    ...    ...    ...        ...   \n",
      "23995    50000.0  32.0    0.0    0.0    0.0    0.0    0.0    0.0    52475.0   \n",
      "23996   200000.0  37.0    2.0    2.0    2.0    2.0    2.0    2.0   157131.0   \n",
      "23997    50000.0  26.0   -2.0   -2.0   -2.0   -2.0   -2.0   -2.0        0.0   \n",
      "23998    70000.0  25.0    0.0    0.0    0.0    0.0    2.0    2.0    73939.0   \n",
      "23999   160000.0  36.0   -2.0   -2.0   -2.0   -2.0   -2.0   -2.0      -20.0   \n",
      "\n",
      "       bill_amt2  ...  education:2  education:3  education:4  education:5  \\\n",
      "0        77353.0  ...          1.0          0.0          0.0          0.0   \n",
      "1        29507.0  ...          1.0          0.0          0.0          0.0   \n",
      "2            0.0  ...          0.0          0.0          0.0          1.0   \n",
      "3        53235.0  ...          0.0          0.0          0.0          0.0   \n",
      "4       112348.0  ...          1.0          0.0          0.0          0.0   \n",
      "...          ...  ...          ...          ...          ...          ...   \n",
      "23995    53600.0  ...          1.0          0.0          0.0          0.0   \n",
      "23996   166590.0  ...          0.0          0.0          0.0          0.0   \n",
      "23997        0.0  ...          0.0          0.0          0.0          0.0   \n",
      "23998    70488.0  ...          1.0          0.0          0.0          0.0   \n",
      "23999      -20.0  ...          1.0          0.0          0.0          0.0   \n",
      "\n",
      "       education:6  marriage:0  marriage:1  marriage:2  marriage:3  \\\n",
      "0              0.0         0.0         0.0         1.0         0.0   \n",
      "1              0.0         0.0         0.0         1.0         0.0   \n",
      "2              0.0         0.0         1.0         0.0         0.0   \n",
      "3              0.0         0.0         0.0         1.0         0.0   \n",
      "4              0.0         0.0         0.0         1.0         0.0   \n",
      "...            ...         ...         ...         ...         ...   \n",
      "23995          0.0         0.0         0.0         1.0         0.0   \n",
      "23996          0.0         0.0         0.0         1.0         0.0   \n",
      "23997          0.0         0.0         0.0         1.0         0.0   \n",
      "23998          0.0         0.0         0.0         1.0         0.0   \n",
      "23999          0.0         0.0         1.0         0.0         0.0   \n",
      "\n",
      "       default.payment.next.month  \n",
      "0                               0  \n",
      "1                               0  \n",
      "2                               0  \n",
      "3                               0  \n",
      "4                               0  \n",
      "...                           ...  \n",
      "23995                           0  \n",
      "23996                           1  \n",
      "23997                           0  \n",
      "23998                           1  \n",
      "23999                           1  \n",
      "\n",
      "[24000 rows x 34 columns]\n",
      "Removed duplicate DataFrame:\n",
      "       limit_bal   age  pay_0  pay_2  pay_3  pay_4  pay_5  pay_6  bill_amt1  \\\n",
      "0        80000.0  24.0    0.0    0.0    0.0    0.0    0.0    0.0    75125.0   \n",
      "1        30000.0  28.0    0.0    0.0    0.0    0.0    0.0    0.0    29242.0   \n",
      "2       180000.0  44.0    0.0    0.0   -1.0   -1.0   -1.0   -1.0    20916.0   \n",
      "3        60000.0  25.0    0.0    0.0    0.0    0.0    0.0    0.0    58839.0   \n",
      "4       130000.0  25.0    0.0    0.0    0.0    0.0    0.0    0.0   111587.0   \n",
      "...          ...   ...    ...    ...    ...    ...    ...    ...        ...   \n",
      "23995    50000.0  32.0    0.0    0.0    0.0    0.0    0.0    0.0    52475.0   \n",
      "23996   200000.0  37.0    2.0    2.0    2.0    2.0    2.0    2.0   157131.0   \n",
      "23997    50000.0  26.0   -2.0   -2.0   -2.0   -2.0   -2.0   -2.0        0.0   \n",
      "23998    70000.0  25.0    0.0    0.0    0.0    0.0    2.0    2.0    73939.0   \n",
      "23999   160000.0  36.0   -2.0   -2.0   -2.0   -2.0   -2.0   -2.0      -20.0   \n",
      "\n",
      "       bill_amt2  ...  education:2  education:3  education:4  education:5  \\\n",
      "0        77353.0  ...          1.0          0.0          0.0          0.0   \n",
      "1        29507.0  ...          1.0          0.0          0.0          0.0   \n",
      "2            0.0  ...          0.0          0.0          0.0          1.0   \n",
      "3        53235.0  ...          0.0          0.0          0.0          0.0   \n",
      "4       112348.0  ...          1.0          0.0          0.0          0.0   \n",
      "...          ...  ...          ...          ...          ...          ...   \n",
      "23995    53600.0  ...          1.0          0.0          0.0          0.0   \n",
      "23996   166590.0  ...          0.0          0.0          0.0          0.0   \n",
      "23997        0.0  ...          0.0          0.0          0.0          0.0   \n",
      "23998    70488.0  ...          1.0          0.0          0.0          0.0   \n",
      "23999      -20.0  ...          1.0          0.0          0.0          0.0   \n",
      "\n",
      "       education:6  marriage:0  marriage:1  marriage:2  marriage:3  \\\n",
      "0              0.0         0.0         0.0         1.0         0.0   \n",
      "1              0.0         0.0         0.0         1.0         0.0   \n",
      "2              0.0         0.0         1.0         0.0         0.0   \n",
      "3              0.0         0.0         0.0         1.0         0.0   \n",
      "4              0.0         0.0         0.0         1.0         0.0   \n",
      "...            ...         ...         ...         ...         ...   \n",
      "23995          0.0         0.0         0.0         1.0         0.0   \n",
      "23996          0.0         0.0         0.0         1.0         0.0   \n",
      "23997          0.0         0.0         0.0         1.0         0.0   \n",
      "23998          0.0         0.0         0.0         1.0         0.0   \n",
      "23999          0.0         0.0         1.0         0.0         0.0   \n",
      "\n",
      "       default.payment.next.month  \n",
      "0                               0  \n",
      "1                               0  \n",
      "2                               0  \n",
      "3                               0  \n",
      "4                               0  \n",
      "...                           ...  \n",
      "23995                           0  \n",
      "23996                           1  \n",
      "23997                           0  \n",
      "23998                           1  \n",
      "23999                           1  \n",
      "\n",
      "[24000 rows x 34 columns]\n"
     ]
    }
   ],
   "source": [
    "#b) Remove Duplicats\n",
    "\n",
    "dataset = load_dataset(\"imodels/credit-card\")\n",
    "df = pd.DataFrame(dataset['train'])\n",
    "df_uniq = pd.DataFrame(dataset['train'])\n",
    "\n",
    "print(\"Original DataFrame:\")\n",
    "print(df)\n",
    "\n",
    "df_uniq.drop_duplicates()\n",
    "\n",
    "print(\"Removed duplicate DataFrame:\")\n",
    "print(df)"
   ]
  },
  {
   "cell_type": "code",
   "execution_count": 21,
   "metadata": {},
   "outputs": [
    {
     "name": "stdout",
     "output_type": "stream",
     "text": [
      "Correlation matrix:\n",
      "                 age  limit_bal\n",
      "age        1.000000   0.149027\n",
      "limit_bal  0.149027   1.000000\n",
      "\n",
      "Correlation between age and credit limit: 0.14902690429071996\n"
     ]
    }
   ],
   "source": [
    "#c) KoRElacja\n",
    "df_uniq = pd.DataFrame(dataset['train'])\n",
    "df_uniq.drop_duplicates()\n",
    "\n",
    "correlation_matrix = df_uniq[['age', 'limit_bal']].corr()\n",
    "\n",
    "age_credit_limit_correlation = correlation_matrix.loc['age', 'limit_bal']\n",
    "\n",
    "print(\"Correlation matrix:\\n\", correlation_matrix)\n",
    "print(\"\\nCorrelation between age and credit limit:\", age_credit_limit_correlation)"
   ]
  },
  {
   "cell_type": "code",
   "execution_count": 22,
   "metadata": {},
   "outputs": [
    {
     "name": "stdout",
     "output_type": "stream",
     "text": [
      "       total_bill_amount\n",
      "0               383630.0\n",
      "1               135160.0\n",
      "2                38987.0\n",
      "3               269005.0\n",
      "4               701250.0\n",
      "...                  ...\n",
      "23995           253128.0\n",
      "23996           997402.0\n",
      "23997                0.0\n",
      "23998           287373.0\n",
      "23999            22267.0\n",
      "\n",
      "[24000 rows x 1 columns]\n"
     ]
    }
   ],
   "source": [
    "df_uniq['total_bill_amount'] = df_uniq[['bill_amt1', 'bill_amt2', 'bill_amt3', 'bill_amt4', 'bill_amt5', 'bill_amt6']].sum(axis=1)\n",
    "\n",
    "print(df_uniq[['total_bill_amount']])"
   ]
  },
  {
   "cell_type": "code",
   "execution_count": 26,
   "metadata": {},
   "outputs": [
    {
     "ename": "KeyError",
     "evalue": "\"None of [Index([('limit_bal', 'age', 'education:0', 'education:1', 'education:2', 'education:3', 'education:4', 'education:5', 'education:6', 'total_bill_amount')], dtype='object')] are in the [columns]\"",
     "output_type": "error",
     "traceback": [
      "\u001b[1;31m---------------------------------------------------------------------------\u001b[0m",
      "\u001b[1;31mKeyError\u001b[0m                                  Traceback (most recent call last)",
      "\u001b[1;32mc:\\Users\\igosie\\Documents\\Python\\.ipynb_checkpoints\\LAB3.ipynb Cell 7\u001b[0m line \u001b[0;36m7\n\u001b[0;32m      <a href='vscode-notebook-cell:/c%3A/Users/igosie/Documents/Python/.ipynb_checkpoints/LAB3.ipynb#W6sZmlsZQ%3D%3D?line=3'>4</a>\u001b[0m education_columns \u001b[39m=\u001b[39m [col \u001b[39mfor\u001b[39;00m col \u001b[39min\u001b[39;00m df_uniq\u001b[39m.\u001b[39mcolumns \u001b[39mif\u001b[39;00m \u001b[39m'\u001b[39m\u001b[39meducation\u001b[39m\u001b[39m'\u001b[39m \u001b[39min\u001b[39;00m col] \u001b[39m#becouse we have education_columns like education:1, 2...\u001b[39;00m\n\u001b[0;32m      <a href='vscode-notebook-cell:/c%3A/Users/igosie/Documents/Python/.ipynb_checkpoints/LAB3.ipynb#W6sZmlsZQ%3D%3D?line=5'>6</a>\u001b[0m selected_columns \u001b[39m=\u001b[39m [[\u001b[39m'\u001b[39m\u001b[39mlimit_bal\u001b[39m\u001b[39m'\u001b[39m, \u001b[39m'\u001b[39m\u001b[39mage\u001b[39m\u001b[39m'\u001b[39m] \u001b[39m+\u001b[39m education_columns \u001b[39m+\u001b[39m [\u001b[39m'\u001b[39m\u001b[39mtotal_bill_amount\u001b[39m\u001b[39m'\u001b[39m]]\n\u001b[1;32m----> <a href='vscode-notebook-cell:/c%3A/Users/igosie/Documents/Python/.ipynb_checkpoints/LAB3.ipynb#W6sZmlsZQ%3D%3D?line=6'>7</a>\u001b[0m oldest_clients_subset \u001b[39m=\u001b[39m oldest_clients[selected_columns]\n\u001b[0;32m      <a href='vscode-notebook-cell:/c%3A/Users/igosie/Documents/Python/.ipynb_checkpoints/LAB3.ipynb#W6sZmlsZQ%3D%3D?line=8'>9</a>\u001b[0m \u001b[39mprint\u001b[39m(oldest_clients_subset)\n",
      "File \u001b[1;32mc:\\Users\\igosie\\AppData\\Local\\Programs\\Python\\Python311\\Lib\\site-packages\\pandas\\core\\frame.py:3902\u001b[0m, in \u001b[0;36mDataFrame.__getitem__\u001b[1;34m(self, key)\u001b[0m\n\u001b[0;32m   3900\u001b[0m     \u001b[39mif\u001b[39;00m is_iterator(key):\n\u001b[0;32m   3901\u001b[0m         key \u001b[39m=\u001b[39m \u001b[39mlist\u001b[39m(key)\n\u001b[1;32m-> 3902\u001b[0m     indexer \u001b[39m=\u001b[39m \u001b[39mself\u001b[39;49m\u001b[39m.\u001b[39;49mcolumns\u001b[39m.\u001b[39;49m_get_indexer_strict(key, \u001b[39m\"\u001b[39;49m\u001b[39mcolumns\u001b[39;49m\u001b[39m\"\u001b[39;49m)[\u001b[39m1\u001b[39m]\n\u001b[0;32m   3904\u001b[0m \u001b[39m# take() does not accept boolean indexers\u001b[39;00m\n\u001b[0;32m   3905\u001b[0m \u001b[39mif\u001b[39;00m \u001b[39mgetattr\u001b[39m(indexer, \u001b[39m\"\u001b[39m\u001b[39mdtype\u001b[39m\u001b[39m\"\u001b[39m, \u001b[39mNone\u001b[39;00m) \u001b[39m==\u001b[39m \u001b[39mbool\u001b[39m:\n",
      "File \u001b[1;32mc:\\Users\\igosie\\AppData\\Local\\Programs\\Python\\Python311\\Lib\\site-packages\\pandas\\core\\indexes\\base.py:6114\u001b[0m, in \u001b[0;36mIndex._get_indexer_strict\u001b[1;34m(self, key, axis_name)\u001b[0m\n\u001b[0;32m   6111\u001b[0m \u001b[39melse\u001b[39;00m:\n\u001b[0;32m   6112\u001b[0m     keyarr, indexer, new_indexer \u001b[39m=\u001b[39m \u001b[39mself\u001b[39m\u001b[39m.\u001b[39m_reindex_non_unique(keyarr)\n\u001b[1;32m-> 6114\u001b[0m \u001b[39mself\u001b[39;49m\u001b[39m.\u001b[39;49m_raise_if_missing(keyarr, indexer, axis_name)\n\u001b[0;32m   6116\u001b[0m keyarr \u001b[39m=\u001b[39m \u001b[39mself\u001b[39m\u001b[39m.\u001b[39mtake(indexer)\n\u001b[0;32m   6117\u001b[0m \u001b[39mif\u001b[39;00m \u001b[39misinstance\u001b[39m(key, Index):\n\u001b[0;32m   6118\u001b[0m     \u001b[39m# GH 42790 - Preserve name from an Index\u001b[39;00m\n",
      "File \u001b[1;32mc:\\Users\\igosie\\AppData\\Local\\Programs\\Python\\Python311\\Lib\\site-packages\\pandas\\core\\indexes\\base.py:6175\u001b[0m, in \u001b[0;36mIndex._raise_if_missing\u001b[1;34m(self, key, indexer, axis_name)\u001b[0m\n\u001b[0;32m   6173\u001b[0m     \u001b[39mif\u001b[39;00m use_interval_msg:\n\u001b[0;32m   6174\u001b[0m         key \u001b[39m=\u001b[39m \u001b[39mlist\u001b[39m(key)\n\u001b[1;32m-> 6175\u001b[0m     \u001b[39mraise\u001b[39;00m \u001b[39mKeyError\u001b[39;00m(\u001b[39mf\u001b[39m\u001b[39m\"\u001b[39m\u001b[39mNone of [\u001b[39m\u001b[39m{\u001b[39;00mkey\u001b[39m}\u001b[39;00m\u001b[39m] are in the [\u001b[39m\u001b[39m{\u001b[39;00maxis_name\u001b[39m}\u001b[39;00m\u001b[39m]\u001b[39m\u001b[39m\"\u001b[39m)\n\u001b[0;32m   6177\u001b[0m not_found \u001b[39m=\u001b[39m \u001b[39mlist\u001b[39m(ensure_index(key)[missing_mask\u001b[39m.\u001b[39mnonzero()[\u001b[39m0\u001b[39m]]\u001b[39m.\u001b[39munique())\n\u001b[0;32m   6178\u001b[0m \u001b[39mraise\u001b[39;00m \u001b[39mKeyError\u001b[39;00m(\u001b[39mf\u001b[39m\u001b[39m\"\u001b[39m\u001b[39m{\u001b[39;00mnot_found\u001b[39m}\u001b[39;00m\u001b[39m not in index\u001b[39m\u001b[39m\"\u001b[39m)\n",
      "\u001b[1;31mKeyError\u001b[0m: \"None of [Index([('limit_bal', 'age', 'education:0', 'education:1', 'education:2', 'education:3', 'education:4', 'education:5', 'education:6', 'total_bill_amount')], dtype='object')] are in the [columns]\""
     ]
    }
   ],
   "source": [
    "sorted_df = df_uniq.sort_values(by='age', ascending=False)\n",
    "\n",
    "oldest_clients = sorted_df.head(10)\n",
    "education_columns = [col for col in df_uniq.columns if 'education' in col] #becouse we have education_columns like education:1, 2...\n",
    "\n",
    "selected_columns = ['limit_bal', 'age'] + education_columns + ['total_bill_amount']\n",
    "oldest_clients_subset = oldest_clients[selected_columns]\n",
    "\n",
    "print(oldest_clients_subset)"
   ]
  }
 ],
 "metadata": {
  "kernelspec": {
   "display_name": "Python 3",
   "language": "python",
   "name": "python3"
  },
  "language_info": {
   "codemirror_mode": {
    "name": "ipython",
    "version": 3
   },
   "file_extension": ".py",
   "mimetype": "text/x-python",
   "name": "python",
   "nbconvert_exporter": "python",
   "pygments_lexer": "ipython3",
   "version": "3.11.5"
  }
 },
 "nbformat": 4,
 "nbformat_minor": 2
}
